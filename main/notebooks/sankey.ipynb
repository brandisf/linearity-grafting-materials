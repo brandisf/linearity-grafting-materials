{
 "cells": [
  {
   "cell_type": "markdown",
   "metadata": {},
   "source": [
    "# Sample Verification Index Transfers in Grafting - Visualisations"
   ]
  },
  {
   "cell_type": "code",
   "execution_count": 1,
   "metadata": {},
   "outputs": [
    {
     "name": "stderr",
     "output_type": "stream",
     "text": [
      "/usr/local/anaconda3/envs/alpha-beta-crown/lib/python3.10/site-packages/tqdm/auto.py:21: TqdmWarning: IProgress not found. Please update jupyter and ipywidgets. See https://ipywidgets.readthedocs.io/en/stable/user_install.html\n",
      "  from .autonotebook import tqdm as notebook_tqdm\n"
     ]
    }
   ],
   "source": [
    "import torch\n",
    "from matplotlib_venn import venn2\n",
    "import numpy as np\n",
    "import matplotlib.pyplot as plt\n",
    "import pickle\n",
    "from collections import OrderedDict\n",
    "import plotly.graph_objects as go\n",
    "import io\n",
    "import os\n",
    "os.chdir('../')"
   ]
  },
  {
   "cell_type": "markdown",
   "metadata": {},
   "source": [
    "### Extracted Data from Verifying 1000 samples on pretrained CIFAR CNN-B and provided grafted counterpart"
   ]
  },
  {
   "cell_type": "code",
   "execution_count": 2,
   "metadata": {},
   "outputs": [],
   "source": [
    "# For unpickling files written on machine with GPU\n",
    "class CPU_Unpickler(pickle.Unpickler):\n",
    "    def find_class(self, module, name):\n",
    "        if module == 'torch.storage' and name == '_load_from_bytes':\n",
    "            return lambda b: torch.load(io.BytesIO(b), map_location='cpu')\n",
    "        else: return super().find_class(module, name)"
   ]
  },
  {
   "cell_type": "code",
   "execution_count": 3,
   "metadata": {},
   "outputs": [],
   "source": [
    "####### EXTRACT FROM SAVED DICTS ########\n",
    "\n",
    "baseline_path = \"VERIFY/CNN-B Example/Baseline/index_results.pkl\"\n",
    "\n",
    "grafted_path = \"VERIFY/CNN-B Example/Grafted/index_results.pkl\"\n",
    "\n",
    "\n",
    "path_a = baseline_path\n",
    "path_b = grafted_path\n",
    "name_a = \"Baseline\"\n",
    "name_b = \"Grafted\"\n",
    "with open(path_a, 'rb') as handle:\n",
    "    results_a = CPU_Unpickler(handle).load()\n",
    "with open(path_b, 'rb') as handle:\n",
    "    results_b = CPU_Unpickler(handle).load()\n",
    "\n",
    "assert results_a.keys() == results_b.keys()"
   ]
  },
  {
   "cell_type": "code",
   "execution_count": 4,
   "metadata": {},
   "outputs": [
    {
     "name": "stdout",
     "output_type": "stream",
     "text": [
      "999\n",
      "[0.1921921921921922, 0.1941941941941942, 0.36036036036036034, 0.25325325325325326, 0.24624624624624625, 0.18218218218218218, 0.4964964964964965, 0.07307307307307308]\n",
      "[0, 0, 0, 0, 1, 1, 1, 1, 2, 2, 2, 2, 3, 3, 3, 3]\n",
      "[4, 5, 6, 7, 4, 5, 6, 7, 4, 5, 6, 7, 4, 5, 6, 7]\n",
      "[156, 30, 5, 1, 75, 81, 20, 18, 2, 16, 333, 7, 13, 55, 138, 47]\n",
      "[0, 96.0, 97.0, 180.0, 126.5]\n",
      "[96.0, 289.0, 566.0, 872.5, 123.0, 337.0, 676.0, 960.5]\n"
     ]
    },
    {
     "data": {
      "text/plain": [
       "[0.1, 0.29, 0.57, 0.87, 0.12, 0.34, 0.68, 0.96]"
      ]
     },
     "execution_count": 4,
     "metadata": {},
     "output_type": "execute_result"
    }
   ],
   "source": [
    "#Calculating source and target lists for streams in visualisation\n",
    "\n",
    "source_list = []\n",
    "target_list = []\n",
    "val_list = []\n",
    "\n",
    "for i, (_, source) in enumerate(results_a.items()):\n",
    "    for j, (_, target) in enumerate(results_b.items()):\n",
    "        v = len(set(source).intersection(set(target)))\n",
    "        if v > 0:\n",
    "            source_list.append(i)\n",
    "            target_list.append(j+4)\n",
    "            val_list.append(v)\n",
    "        else:\n",
    "            source_list.append(i)\n",
    "            target_list.append(j+4)\n",
    "            val_list.append(v)\n",
    "\n",
    "\n",
    "#Printing some stats and calculating the y positions of the nodes to be proportional to their width\n",
    "\n",
    "n = sum([len(l) for (_,l) in results_a.items()])\n",
    "print(n)\n",
    "percentages = [len(l)/n for (_, l) in results_a.items()] + [len(l)/n for (_, l) in results_b.items()]\n",
    "print(percentages)\n",
    "print(source_list)\n",
    "print(target_list)\n",
    "print(val_list)\n",
    "\n",
    "half_node_len_list_a = [0]+ [len(l)/2 for (_, l) in results_a.items()]\n",
    "print(half_node_len_list_a)\n",
    "pos_list_a = np.cumsum([half_node_len_list_a[i]+half_node_len_list_a[i+1] for i in range(4)]).tolist()\n",
    "half_node_len_list_b = [0]+ [len(l)/2 for (_, l) in results_b.items()]\n",
    "pos_list_b = np.cumsum([half_node_len_list_b[i]+half_node_len_list_b[i+1] for i in range(4)]).tolist()\n",
    "print(pos_list_a + pos_list_b)\n",
    "pos_list = [round(v/n, 2) for v in pos_list_a+pos_list_b]\n",
    "pos_list"
   ]
  },
  {
   "cell_type": "code",
   "execution_count": 5,
   "metadata": {},
   "outputs": [],
   "source": [
    "# define some more variablse relevant for plotting \n",
    "\n",
    "opacity = 0.5\n",
    "skip_color = f'rgba(255,0,0, {opacity})'\n",
    "attack_color = f'rgba(255, 153, 0, {opacity})'\n",
    "verify_color = f'rgba(149, 245, 66, {opacity})'\n",
    "fail_color = f'rgba(92, 92, 92, {opacity})'\n",
    "colors = [skip_color, attack_color, verify_color, fail_color]\n",
    "link_colors = [colors[trgt-4] for trgt in target_list]\n",
    "ann_x = [-0.05,-0.05, -0.05, -0.05,1.05,1.05,1.05,1.05]\n",
    "ann_y = [1-pos_list[i] for i in range(len(pos_list))]\n",
    "labels = ['SK', 'AT', 'VS', 'VF', 'SK_g', 'AT_g', 'VS_g', 'VF_g'] \n",
    "annotations = [r'${{{name}}} \\; ({{{val}}}\\%)$'.format(name = a, val = round(b*100, 2)) for a,b in zip(labels,percentages)]"
   ]
  },
  {
   "cell_type": "code",
   "execution_count": 6,
   "metadata": {},
   "outputs": [
    {
     "data": {
      "application/vnd.plotly.v1+json": {
       "config": {
        "plotlyServerURL": "https://plot.ly"
       },
       "data": [
        {
         "link": {
          "color": [
           "rgba(255,0,0, 0.5)",
           "rgba(255, 153, 0, 0.5)",
           "rgba(149, 245, 66, 0.5)",
           "rgba(92, 92, 92, 0.5)",
           "rgba(255,0,0, 0.5)",
           "rgba(255, 153, 0, 0.5)",
           "rgba(149, 245, 66, 0.5)",
           "rgba(92, 92, 92, 0.5)",
           "rgba(255,0,0, 0.5)",
           "rgba(255, 153, 0, 0.5)",
           "rgba(149, 245, 66, 0.5)",
           "rgba(92, 92, 92, 0.5)",
           "rgba(255,0,0, 0.5)",
           "rgba(255, 153, 0, 0.5)",
           "rgba(149, 245, 66, 0.5)",
           "rgba(92, 92, 92, 0.5)"
          ],
          "line": {
           "color": "White",
           "width": 0.5
          },
          "source": [
           0,
           0,
           0,
           0,
           1,
           1,
           1,
           1,
           2,
           2,
           2,
           2,
           3,
           3,
           3,
           3
          ],
          "target": [
           4,
           5,
           6,
           7,
           4,
           5,
           6,
           7,
           4,
           5,
           6,
           7,
           4,
           5,
           6,
           7
          ],
          "value": [
           156,
           30,
           5,
           1,
           75,
           81,
           20,
           18,
           2,
           16,
           333,
           7,
           13,
           55,
           138,
           47
          ]
         },
         "node": {
          "color": [
           "rgba(255,0,0, 0.5)",
           "rgba(255, 153, 0, 0.5)",
           "rgba(149, 245, 66, 0.5)",
           "rgba(92, 92, 92, 0.5)",
           "rgba(255,0,0, 0.5)",
           "rgba(255, 153, 0, 0.5)",
           "rgba(149, 245, 66, 0.5)",
           "rgba(92, 92, 92, 0.5)"
          ],
          "label": [
           "SK",
           "AT",
           "VS",
           "VF",
           "SK_g",
           "AT_g",
           "VS_g",
           "VF_g"
          ],
          "line": {
           "color": "White",
           "width": 0.5
          },
          "pad": 10,
          "thickness": 20,
          "x": [
           0.15,
           0.15,
           0.15,
           0.15,
           0.85,
           0.85,
           0.85,
           0.85
          ],
          "y": [
           0.1,
           0.29,
           0.57,
           0.87,
           0.12,
           0.34,
           0.68,
           0.96
          ]
         },
         "textfont": {
          "color": "rgba(0,0,0,0)",
          "size": 1
         },
         "type": "sankey"
        }
       ],
       "layout": {
        "annotations": [
         {
          "font": {
           "color": "black",
           "size": 14
          },
          "showarrow": false,
          "text": "Baseline",
          "x": 0.1,
          "y": 1.08
         },
         {
          "font": {
           "color": "black",
           "size": 14
          },
          "showarrow": false,
          "text": "Grafted",
          "x": 0.92,
          "y": 1.13
         },
         {
          "font": {
           "color": "black",
           "size": 12
          },
          "showarrow": false,
          "text": "${SK} \\; ({19.22}\\%)$",
          "x": -0.05,
          "y": 0.9
         },
         {
          "font": {
           "color": "black",
           "size": 12
          },
          "showarrow": false,
          "text": "${AT} \\; ({19.42}\\%)$",
          "x": -0.05,
          "y": 0.71
         },
         {
          "font": {
           "color": "black",
           "size": 12
          },
          "showarrow": false,
          "text": "${VS} \\; ({36.04}\\%)$",
          "x": -0.05,
          "y": 0.43000000000000005
         },
         {
          "font": {
           "color": "black",
           "size": 12
          },
          "showarrow": false,
          "text": "${VF} \\; ({25.33}\\%)$",
          "x": -0.05,
          "y": 0.13
         },
         {
          "font": {
           "color": "black",
           "size": 12
          },
          "showarrow": false,
          "text": "${SK_g} \\; ({24.62}\\%)$",
          "x": 1.05,
          "y": 0.88
         },
         {
          "font": {
           "color": "black",
           "size": 12
          },
          "showarrow": false,
          "text": "${AT_g} \\; ({18.22}\\%)$",
          "x": 1.05,
          "y": 0.6599999999999999
         },
         {
          "font": {
           "color": "black",
           "size": 12
          },
          "showarrow": false,
          "text": "${VS_g} \\; ({49.65}\\%)$",
          "x": 1.05,
          "y": 0.31999999999999995
         },
         {
          "font": {
           "color": "black",
           "size": 12
          },
          "showarrow": false,
          "text": "${VF_g} \\; ({7.31}\\%)$",
          "x": 1.05,
          "y": 0.040000000000000036
         }
        ],
        "font": {
         "size": 15
        },
        "template": {
         "data": {
          "bar": [
           {
            "error_x": {
             "color": "#2a3f5f"
            },
            "error_y": {
             "color": "#2a3f5f"
            },
            "marker": {
             "line": {
              "color": "#E5ECF6",
              "width": 0.5
             },
             "pattern": {
              "fillmode": "overlay",
              "size": 10,
              "solidity": 0.2
             }
            },
            "type": "bar"
           }
          ],
          "barpolar": [
           {
            "marker": {
             "line": {
              "color": "#E5ECF6",
              "width": 0.5
             },
             "pattern": {
              "fillmode": "overlay",
              "size": 10,
              "solidity": 0.2
             }
            },
            "type": "barpolar"
           }
          ],
          "carpet": [
           {
            "aaxis": {
             "endlinecolor": "#2a3f5f",
             "gridcolor": "white",
             "linecolor": "white",
             "minorgridcolor": "white",
             "startlinecolor": "#2a3f5f"
            },
            "baxis": {
             "endlinecolor": "#2a3f5f",
             "gridcolor": "white",
             "linecolor": "white",
             "minorgridcolor": "white",
             "startlinecolor": "#2a3f5f"
            },
            "type": "carpet"
           }
          ],
          "choropleth": [
           {
            "colorbar": {
             "outlinewidth": 0,
             "ticks": ""
            },
            "type": "choropleth"
           }
          ],
          "contour": [
           {
            "colorbar": {
             "outlinewidth": 0,
             "ticks": ""
            },
            "colorscale": [
             [
              0,
              "#0d0887"
             ],
             [
              0.1111111111111111,
              "#46039f"
             ],
             [
              0.2222222222222222,
              "#7201a8"
             ],
             [
              0.3333333333333333,
              "#9c179e"
             ],
             [
              0.4444444444444444,
              "#bd3786"
             ],
             [
              0.5555555555555556,
              "#d8576b"
             ],
             [
              0.6666666666666666,
              "#ed7953"
             ],
             [
              0.7777777777777778,
              "#fb9f3a"
             ],
             [
              0.8888888888888888,
              "#fdca26"
             ],
             [
              1,
              "#f0f921"
             ]
            ],
            "type": "contour"
           }
          ],
          "contourcarpet": [
           {
            "colorbar": {
             "outlinewidth": 0,
             "ticks": ""
            },
            "type": "contourcarpet"
           }
          ],
          "heatmap": [
           {
            "colorbar": {
             "outlinewidth": 0,
             "ticks": ""
            },
            "colorscale": [
             [
              0,
              "#0d0887"
             ],
             [
              0.1111111111111111,
              "#46039f"
             ],
             [
              0.2222222222222222,
              "#7201a8"
             ],
             [
              0.3333333333333333,
              "#9c179e"
             ],
             [
              0.4444444444444444,
              "#bd3786"
             ],
             [
              0.5555555555555556,
              "#d8576b"
             ],
             [
              0.6666666666666666,
              "#ed7953"
             ],
             [
              0.7777777777777778,
              "#fb9f3a"
             ],
             [
              0.8888888888888888,
              "#fdca26"
             ],
             [
              1,
              "#f0f921"
             ]
            ],
            "type": "heatmap"
           }
          ],
          "heatmapgl": [
           {
            "colorbar": {
             "outlinewidth": 0,
             "ticks": ""
            },
            "colorscale": [
             [
              0,
              "#0d0887"
             ],
             [
              0.1111111111111111,
              "#46039f"
             ],
             [
              0.2222222222222222,
              "#7201a8"
             ],
             [
              0.3333333333333333,
              "#9c179e"
             ],
             [
              0.4444444444444444,
              "#bd3786"
             ],
             [
              0.5555555555555556,
              "#d8576b"
             ],
             [
              0.6666666666666666,
              "#ed7953"
             ],
             [
              0.7777777777777778,
              "#fb9f3a"
             ],
             [
              0.8888888888888888,
              "#fdca26"
             ],
             [
              1,
              "#f0f921"
             ]
            ],
            "type": "heatmapgl"
           }
          ],
          "histogram": [
           {
            "marker": {
             "pattern": {
              "fillmode": "overlay",
              "size": 10,
              "solidity": 0.2
             }
            },
            "type": "histogram"
           }
          ],
          "histogram2d": [
           {
            "colorbar": {
             "outlinewidth": 0,
             "ticks": ""
            },
            "colorscale": [
             [
              0,
              "#0d0887"
             ],
             [
              0.1111111111111111,
              "#46039f"
             ],
             [
              0.2222222222222222,
              "#7201a8"
             ],
             [
              0.3333333333333333,
              "#9c179e"
             ],
             [
              0.4444444444444444,
              "#bd3786"
             ],
             [
              0.5555555555555556,
              "#d8576b"
             ],
             [
              0.6666666666666666,
              "#ed7953"
             ],
             [
              0.7777777777777778,
              "#fb9f3a"
             ],
             [
              0.8888888888888888,
              "#fdca26"
             ],
             [
              1,
              "#f0f921"
             ]
            ],
            "type": "histogram2d"
           }
          ],
          "histogram2dcontour": [
           {
            "colorbar": {
             "outlinewidth": 0,
             "ticks": ""
            },
            "colorscale": [
             [
              0,
              "#0d0887"
             ],
             [
              0.1111111111111111,
              "#46039f"
             ],
             [
              0.2222222222222222,
              "#7201a8"
             ],
             [
              0.3333333333333333,
              "#9c179e"
             ],
             [
              0.4444444444444444,
              "#bd3786"
             ],
             [
              0.5555555555555556,
              "#d8576b"
             ],
             [
              0.6666666666666666,
              "#ed7953"
             ],
             [
              0.7777777777777778,
              "#fb9f3a"
             ],
             [
              0.8888888888888888,
              "#fdca26"
             ],
             [
              1,
              "#f0f921"
             ]
            ],
            "type": "histogram2dcontour"
           }
          ],
          "mesh3d": [
           {
            "colorbar": {
             "outlinewidth": 0,
             "ticks": ""
            },
            "type": "mesh3d"
           }
          ],
          "parcoords": [
           {
            "line": {
             "colorbar": {
              "outlinewidth": 0,
              "ticks": ""
             }
            },
            "type": "parcoords"
           }
          ],
          "pie": [
           {
            "automargin": true,
            "type": "pie"
           }
          ],
          "scatter": [
           {
            "fillpattern": {
             "fillmode": "overlay",
             "size": 10,
             "solidity": 0.2
            },
            "type": "scatter"
           }
          ],
          "scatter3d": [
           {
            "line": {
             "colorbar": {
              "outlinewidth": 0,
              "ticks": ""
             }
            },
            "marker": {
             "colorbar": {
              "outlinewidth": 0,
              "ticks": ""
             }
            },
            "type": "scatter3d"
           }
          ],
          "scattercarpet": [
           {
            "marker": {
             "colorbar": {
              "outlinewidth": 0,
              "ticks": ""
             }
            },
            "type": "scattercarpet"
           }
          ],
          "scattergeo": [
           {
            "marker": {
             "colorbar": {
              "outlinewidth": 0,
              "ticks": ""
             }
            },
            "type": "scattergeo"
           }
          ],
          "scattergl": [
           {
            "marker": {
             "colorbar": {
              "outlinewidth": 0,
              "ticks": ""
             }
            },
            "type": "scattergl"
           }
          ],
          "scattermapbox": [
           {
            "marker": {
             "colorbar": {
              "outlinewidth": 0,
              "ticks": ""
             }
            },
            "type": "scattermapbox"
           }
          ],
          "scatterpolar": [
           {
            "marker": {
             "colorbar": {
              "outlinewidth": 0,
              "ticks": ""
             }
            },
            "type": "scatterpolar"
           }
          ],
          "scatterpolargl": [
           {
            "marker": {
             "colorbar": {
              "outlinewidth": 0,
              "ticks": ""
             }
            },
            "type": "scatterpolargl"
           }
          ],
          "scatterternary": [
           {
            "marker": {
             "colorbar": {
              "outlinewidth": 0,
              "ticks": ""
             }
            },
            "type": "scatterternary"
           }
          ],
          "surface": [
           {
            "colorbar": {
             "outlinewidth": 0,
             "ticks": ""
            },
            "colorscale": [
             [
              0,
              "#0d0887"
             ],
             [
              0.1111111111111111,
              "#46039f"
             ],
             [
              0.2222222222222222,
              "#7201a8"
             ],
             [
              0.3333333333333333,
              "#9c179e"
             ],
             [
              0.4444444444444444,
              "#bd3786"
             ],
             [
              0.5555555555555556,
              "#d8576b"
             ],
             [
              0.6666666666666666,
              "#ed7953"
             ],
             [
              0.7777777777777778,
              "#fb9f3a"
             ],
             [
              0.8888888888888888,
              "#fdca26"
             ],
             [
              1,
              "#f0f921"
             ]
            ],
            "type": "surface"
           }
          ],
          "table": [
           {
            "cells": {
             "fill": {
              "color": "#EBF0F8"
             },
             "line": {
              "color": "white"
             }
            },
            "header": {
             "fill": {
              "color": "#C8D4E3"
             },
             "line": {
              "color": "white"
             }
            },
            "type": "table"
           }
          ]
         },
         "layout": {
          "annotationdefaults": {
           "arrowcolor": "#2a3f5f",
           "arrowhead": 0,
           "arrowwidth": 1
          },
          "autotypenumbers": "strict",
          "coloraxis": {
           "colorbar": {
            "outlinewidth": 0,
            "ticks": ""
           }
          },
          "colorscale": {
           "diverging": [
            [
             0,
             "#8e0152"
            ],
            [
             0.1,
             "#c51b7d"
            ],
            [
             0.2,
             "#de77ae"
            ],
            [
             0.3,
             "#f1b6da"
            ],
            [
             0.4,
             "#fde0ef"
            ],
            [
             0.5,
             "#f7f7f7"
            ],
            [
             0.6,
             "#e6f5d0"
            ],
            [
             0.7,
             "#b8e186"
            ],
            [
             0.8,
             "#7fbc41"
            ],
            [
             0.9,
             "#4d9221"
            ],
            [
             1,
             "#276419"
            ]
           ],
           "sequential": [
            [
             0,
             "#0d0887"
            ],
            [
             0.1111111111111111,
             "#46039f"
            ],
            [
             0.2222222222222222,
             "#7201a8"
            ],
            [
             0.3333333333333333,
             "#9c179e"
            ],
            [
             0.4444444444444444,
             "#bd3786"
            ],
            [
             0.5555555555555556,
             "#d8576b"
            ],
            [
             0.6666666666666666,
             "#ed7953"
            ],
            [
             0.7777777777777778,
             "#fb9f3a"
            ],
            [
             0.8888888888888888,
             "#fdca26"
            ],
            [
             1,
             "#f0f921"
            ]
           ],
           "sequentialminus": [
            [
             0,
             "#0d0887"
            ],
            [
             0.1111111111111111,
             "#46039f"
            ],
            [
             0.2222222222222222,
             "#7201a8"
            ],
            [
             0.3333333333333333,
             "#9c179e"
            ],
            [
             0.4444444444444444,
             "#bd3786"
            ],
            [
             0.5555555555555556,
             "#d8576b"
            ],
            [
             0.6666666666666666,
             "#ed7953"
            ],
            [
             0.7777777777777778,
             "#fb9f3a"
            ],
            [
             0.8888888888888888,
             "#fdca26"
            ],
            [
             1,
             "#f0f921"
            ]
           ]
          },
          "colorway": [
           "#636efa",
           "#EF553B",
           "#00cc96",
           "#ab63fa",
           "#FFA15A",
           "#19d3f3",
           "#FF6692",
           "#B6E880",
           "#FF97FF",
           "#FECB52"
          ],
          "font": {
           "color": "#2a3f5f"
          },
          "geo": {
           "bgcolor": "white",
           "lakecolor": "white",
           "landcolor": "#E5ECF6",
           "showlakes": true,
           "showland": true,
           "subunitcolor": "white"
          },
          "hoverlabel": {
           "align": "left"
          },
          "hovermode": "closest",
          "mapbox": {
           "style": "light"
          },
          "paper_bgcolor": "white",
          "plot_bgcolor": "#E5ECF6",
          "polar": {
           "angularaxis": {
            "gridcolor": "white",
            "linecolor": "white",
            "ticks": ""
           },
           "bgcolor": "#E5ECF6",
           "radialaxis": {
            "gridcolor": "white",
            "linecolor": "white",
            "ticks": ""
           }
          },
          "scene": {
           "xaxis": {
            "backgroundcolor": "#E5ECF6",
            "gridcolor": "white",
            "gridwidth": 2,
            "linecolor": "white",
            "showbackground": true,
            "ticks": "",
            "zerolinecolor": "white"
           },
           "yaxis": {
            "backgroundcolor": "#E5ECF6",
            "gridcolor": "white",
            "gridwidth": 2,
            "linecolor": "white",
            "showbackground": true,
            "ticks": "",
            "zerolinecolor": "white"
           },
           "zaxis": {
            "backgroundcolor": "#E5ECF6",
            "gridcolor": "white",
            "gridwidth": 2,
            "linecolor": "white",
            "showbackground": true,
            "ticks": "",
            "zerolinecolor": "white"
           }
          },
          "shapedefaults": {
           "line": {
            "color": "#2a3f5f"
           }
          },
          "ternary": {
           "aaxis": {
            "gridcolor": "white",
            "linecolor": "white",
            "ticks": ""
           },
           "baxis": {
            "gridcolor": "white",
            "linecolor": "white",
            "ticks": ""
           },
           "bgcolor": "#E5ECF6",
           "caxis": {
            "gridcolor": "white",
            "linecolor": "white",
            "ticks": ""
           }
          },
          "title": {
           "x": 0.05
          },
          "xaxis": {
           "automargin": true,
           "gridcolor": "white",
           "linecolor": "white",
           "ticks": "",
           "title": {
            "standoff": 15
           },
           "zerolinecolor": "white",
           "zerolinewidth": 2
          },
          "yaxis": {
           "automargin": true,
           "gridcolor": "white",
           "linecolor": "white",
           "ticks": "",
           "title": {
            "standoff": 15
           },
           "zerolinecolor": "white",
           "zerolinewidth": 2
          }
         }
        },
        "title": {
         "text": "CIFAR CNN-B"
        }
       }
      }
     },
     "metadata": {},
     "output_type": "display_data"
    }
   ],
   "source": [
    "#Plot transfers\n",
    "\n",
    "fig = go.Figure(data=[go.Sankey(\n",
    "    textfont=dict(color=\"rgba(0,0,0,0)\", size=1),\n",
    "    node = dict(\n",
    "      pad = 10,\n",
    "      thickness = 20,\n",
    "      x=[0.15, 0.15, 0.15, 0.15, 0.85, 0.85, 0.85, 0.85],\n",
    "      y = pos_list,\n",
    "      line = dict(color = \"White\", width = 0.5),\n",
    "      label = labels,\n",
    "      color =  colors*2\n",
    "    ),\n",
    "    link = dict(\n",
    "      line = dict(color = \"White\", width = 0.5),\n",
    "      source = source_list,\n",
    "      target = target_list,\n",
    "      value = val_list,\n",
    "      color = link_colors\n",
    "  ))])\n",
    "\n",
    "fig.update_layout(title_text=f\"CIFAR CNN-B\", font_size=15)\n",
    "\n",
    "fig.add_annotation(dict(font=dict(color=\"black\",size=14), x=0.10, y=1.08, showarrow=False, text=name_a))\n",
    "fig.add_annotation(dict(font=dict(color=\"black\",size=14), x=0.92, y=1.13, showarrow=False, text = name_b))\n",
    "for ann, x, y in zip(annotations, ann_x, ann_y):\n",
    "    fig.add_annotation(dict(font=dict(color=\"black\",size=12), x=x, y=y, showarrow=False, text=ann))\n",
    "fig.show()\n",
    "fig.write_image(\"graphics/sankey_test.png\", scale = 8)"
   ]
  },
  {
   "cell_type": "code",
   "execution_count": 7,
   "metadata": {},
   "outputs": [
    {
     "name": "stderr",
     "output_type": "stream",
     "text": [
      "/var/folders/z5/yqd1shk93k5750y70gcq3tgw0000gn/T/ipykernel_34194/732774106.py:17: UserWarning:\n",
      "\n",
      "Matplotlib is currently using module://matplotlib_inline.backend_inline, which is a non-GUI backend, so cannot show the figure.\n",
      "\n"
     ]
    },
    {
     "data": {
      "image/png": "[encoded data removed]",
      "text/plain": [
       "<Figure size 1600x400 with 4 Axes>"
      ]
     },
     "metadata": {},
     "output_type": "display_data"
    }
   ],
   "source": [
    "#Venn Plot \n",
    "\n",
    "fig, axes = plt.subplots(nrows=1, ncols=4, figsize=(16,4))\n",
    "axes[0].set_title(\"Skipped Inputs\")\n",
    "venn2([set(results_a['skipped_examples']), set(results_b['skipped_examples'])], set_labels = (r'$SK$', r'$SK_g$'), ax = axes[0], set_colors=('skyblue', 'violet'), alpha = 0.6)\n",
    "\n",
    "axes[1].set_title(\"Attack Success Inputs\")\n",
    "venn2([set(results_a['attack_successes']), set(results_b['attack_successes'])], set_labels = (r'$AT$', r'$AT_g$'), ax = axes[1], set_colors=('skyblue', 'violet'), alpha = 0.6)\n",
    "\n",
    "axes[2].set_title(\"Verified Inputs\")\n",
    "venn2([set(results_a['verification_success']), set(results_b['verification_success'])], set_labels = (r'$VS$', r'$VS_g$'), ax = axes[2], set_colors=('skyblue', 'violet'), alpha = 0.6)\n",
    "\n",
    "axes[3].set_title(\"Verification Failure Inputs\")\n",
    "venn2([set(results_a['verification_failure']), set(results_b['verification_failure'])], set_labels = (r'$VF$', r'$VF_g$'), ax = axes[3], set_colors=('skyblue', 'violet'), alpha = 0.6)\n",
    "\n",
    "fig.suptitle('CIFAR10 CNN-B', fontsize = 20)\n",
    "fig.show()\n",
    "fig.savefig('graphics/venn_sankey_test.pdf')"
   ]
  }
 ],
 "metadata": {
  "kernelspec": {
   "display_name": "alpha-beta-crown",
   "language": "python",
   "name": "python3"
  },
  "language_info": {
   "codemirror_mode": {
    "name": "ipython",
    "version": 3
   },
   "file_extension": ".py",
   "mimetype": "text/x-python",
   "name": "python",
   "nbconvert_exporter": "python",
   "pygments_lexer": "ipython3",
   "version": "3.10.12"
  },
  "orig_nbformat": 4
 },
 "nbformat": 4,
 "nbformat_minor": 2
}
