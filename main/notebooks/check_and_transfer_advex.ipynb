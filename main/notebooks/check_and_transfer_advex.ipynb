{
 "cells": [
  {
   "cell_type": "markdown",
   "metadata": {},
   "source": [
    "# Check adversarial examples created in verification process"
   ]
  },
  {
   "cell_type": "code",
   "execution_count": 1,
   "metadata": {},
   "outputs": [
    {
     "name": "stderr",
     "output_type": "stream",
     "text": [
      "/usr/local/anaconda3/envs/alpha-beta-crown/lib/python3.10/site-packages/tqdm/auto.py:21: TqdmWarning: IProgress not found. Please update jupyter and ipywidgets. See https://ipywidgets.readthedocs.io/en/stable/user_install.html\n",
      "  from .autonotebook import tqdm as notebook_tqdm\n",
      "/usr/local/anaconda3/envs/alpha-beta-crown/lib/python3.10/site-packages/torchvision/io/image.py:13: UserWarning: Failed to load image Python extension: 'dlopen(/usr/local/anaconda3/envs/alpha-beta-crown/lib/python3.10/site-packages/torchvision/image.so, 0x0006): Symbol not found: (__ZN3c106detail19maybe_wrap_dim_slowIxEET_S2_S2_b)\n",
      "  Referenced from: '/usr/local/anaconda3/envs/alpha-beta-crown/lib/python3.10/site-packages/torchvision/image.so'\n",
      "  Expected in: '/usr/local/anaconda3/envs/alpha-beta-crown/lib/python3.10/site-packages/torch/lib/libc10.dylib''If you don't plan on using image functionality from `torchvision.io`, you can ignore this warning. Otherwise, there might be something wrong with your environment. Did you have `libjpeg` or `libpng` installed before building `torchvision` from source?\n",
      "  warn(\n"
     ]
    }
   ],
   "source": [
    "import os\n",
    "os.chdir('../')\n",
    "import torch\n",
    "import numpy as np\n",
    "import plotly.graph_objects as go\n",
    "import torchvision\n",
    "import torchvision.transforms as transforms\n",
    "import PIL.Image as Image\n",
    "from model_defs import *\n",
    "import pickle\n",
    "import io\n",
    "import matplotlib.pyplot as plt"
   ]
  },
  {
   "cell_type": "code",
   "execution_count": 2,
   "metadata": {},
   "outputs": [],
   "source": [
    "# For unpickling files written on machine with GPU\n",
    "class CPU_Unpickler(pickle.Unpickler):\n",
    "    def find_class(self, module, name):\n",
    "        if module == 'torch.storage' and name == '_load_from_bytes':\n",
    "            return lambda b: torch.load(io.BytesIO(b), map_location='cpu')\n",
    "        else: return super().find_class(module, name)"
   ]
  },
  {
   "cell_type": "code",
   "execution_count": 3,
   "metadata": {},
   "outputs": [],
   "source": [
    "def classify_tensor(model, x, classes, name = None, silent = False):\n",
    "    model = model.eval()\n",
    "    output = model(x.unsqueeze(0))\n",
    "    _,predicted = torch.max(output.data, 1)\n",
    "    cl = predicted.item()\n",
    "    probs = torch.nn.functional.softmax(output[0], dim = 0).detach()\n",
    "    if not silent:\n",
    "        if name is not None:\n",
    "            print(\"Predicted class (\"+name+\"): \"+str(classes[cl])+ \" (\"+str(cl)+\")\\n\")\n",
    "        else:\n",
    "            print(\"Predicted class: \"+str(classes[cl])+ \" (\"+str(cl)+\")\\n\")\n",
    "        for i, c in enumerate(classes):\n",
    "            print(f'{probs[i]*100:.2f}% {c}')\n",
    "        print('\\n')\n",
    "\n",
    "    return cl, probs[cl].item()"
   ]
  },
  {
   "cell_type": "code",
   "execution_count": 4,
   "metadata": {},
   "outputs": [],
   "source": [
    "### CIFAR10 specific stuff\n",
    "classes = ['airplane', 'automobile', 'bird', 'cat', 'deer', 'dog', 'frog', 'horse', 'ship', 'truck']\n",
    "mean = [0.4914, 0.4822, 0.4465]\n",
    "std = [0.2023, 0.1994, 0.2010]\n",
    "\n",
    "def denormalise(image, mean, std):\n",
    "    #image comes in with shape (32, 32, 3)\n",
    "    return torch.Tensor(std) * image + torch.Tensor(mean)\n"
   ]
  },
  {
   "cell_type": "markdown",
   "metadata": {},
   "source": [
    "### Load model weights and saved adversarial examples:"
   ]
  },
  {
   "cell_type": "code",
   "execution_count": 16,
   "metadata": {},
   "outputs": [],
   "source": [
    "orig_model_weights_path = 'CNN-B_CIFAR10/Pretrained/Models/cnn_b_2_255_cifar10_baseline.pth'\n",
    "graft_model_weights_path = 'CNN-B_CIFAR10/Pretrained/Models/cnn_b_2_255_cifar10_graft.pth'\n",
    "\n",
    "model_paths = {'Original':orig_model_weights_path, 'Graft': graft_model_weights_path}\n",
    "\n",
    "orig_adv_examples_path = \"VERIFY/CNN-B Example/Baseline/adv_examples.pkl\"\n",
    "graft_adv_examples_path = \"VERIFY/CNN-B Example/Grafted/adv_examples.pkl\"\n",
    "\n",
    "adv_paths = {'Original':orig_adv_examples_path, 'Graft': graft_adv_examples_path}"
   ]
  },
  {
   "cell_type": "code",
   "execution_count": 17,
   "metadata": {},
   "outputs": [],
   "source": [
    "model_name = \"Graft\"\n",
    "# adjust architecture accordingly\n",
    "#model = cifar_cnn_b()\n",
    "model = cifar_cnn_b_graft()\n",
    "# choose which adversarial examples to use (created either on original or grafted model)\n",
    "adv_name = \"Original\"\n"
   ]
  },
  {
   "cell_type": "code",
   "execution_count": 18,
   "metadata": {},
   "outputs": [],
   "source": [
    "model_weights_path = model_paths[model_name]\n",
    "weights = torch.load(model_weights_path, map_location=torch.device('cpu'))\n",
    "model.load_state_dict(weights)\n",
    "#uncomment depending on model\n",
    "#model.load_state_dict(weights['state_dict'])\n",
    "\n",
    "adv_examples_path = adv_paths[adv_name]\n",
    "with open(adv_examples_path, 'rb') as handle:\n",
    "    adv_examples = CPU_Unpickler(handle).load()"
   ]
  },
  {
   "cell_type": "markdown",
   "metadata": {},
   "source": [
    "### Adversarial examples are saved in a dictionary with the keys being the indices of the images in the test set"
   ]
  },
  {
   "cell_type": "code",
   "execution_count": 19,
   "metadata": {},
   "outputs": [
    {
     "name": "stdout",
     "output_type": "stream",
     "text": [
      "dict_keys([5, 12, 20, 22, 26, 28, 31, 32, 36, 37, 42, 65, 68, 69, 70, 74, 76, 86, 95, 100, 106, 121, 125, 126, 128, 147, 151, 153, 158, 162, 168, 171, 176, 177, 183, 187, 190, 192, 195, 201, 214, 223, 229, 232, 242, 253, 255, 256, 269, 270, 273, 275, 278, 286, 293, 295, 303, 308, 313, 314, 319, 343, 346, 352, 354, 355, 357, 366, 370, 373, 376, 377, 383, 384, 388, 391, 394, 398, 403, 405, 412, 418, 430, 432, 435, 436, 441, 444, 446, 457, 458, 465, 467, 474, 476, 479, 485, 491, 503, 513, 515, 524, 525, 528, 531, 532, 537, 548, 550, 562, 564, 585, 597, 599, 607, 617, 618, 629, 637, 646, 647, 652, 653, 657, 661, 668, 674, 682, 684, 686, 690, 692, 695, 701, 702, 703, 704, 706, 716, 717, 720, 727, 728, 730, 733, 760, 761, 767, 773, 775, 783, 788, 792, 794, 798, 799, 804, 810, 814, 819, 820, 821, 833, 834, 841, 843, 850, 867, 870, 877, 878, 881, 886, 889, 905, 910, 912, 919, 923, 924, 929, 930, 936, 941, 964, 965, 967, 970, 972, 974, 980, 981, 986, 995])\n"
     ]
    }
   ],
   "source": [
    "print(adv_examples.keys())"
   ]
  },
  {
   "cell_type": "markdown",
   "metadata": {},
   "source": [
    "### Choose one index and examine the data saved in the verification process: original class & attacked class"
   ]
  },
  {
   "cell_type": "code",
   "execution_count": 21,
   "metadata": {},
   "outputs": [
    {
     "name": "stdout",
     "output_type": "stream",
     "text": [
      "ID: 5\n",
      "class: frog (6)\n",
      "attack target class: cat (3)\n"
     ]
    }
   ],
   "source": [
    "index = 5\n",
    "example = adv_examples[index]\n",
    "print(f'ID: {example[\"ID\"]}')\n",
    "print(f'class: {classes[example[\"y\"]]} ({example[\"y\"]})')\n",
    "print(f'attack target class: {classes[example[\"attack_label\"]]} ({example[\"attack_label\"]})')"
   ]
  },
  {
   "cell_type": "markdown",
   "metadata": {},
   "source": [
    "### Check if we can reproduce this when classifying both the original and attacked image with our model:"
   ]
  },
  {
   "cell_type": "code",
   "execution_count": 22,
   "metadata": {},
   "outputs": [
    {
     "name": "stdout",
     "output_type": "stream",
     "text": [
      "Predicted class (original): frog (6)\n",
      "\n",
      "0.65% airplane\n",
      "0.10% automobile\n",
      "6.00% bird\n",
      "10.34% cat\n",
      "10.74% deer\n",
      "7.90% dog\n",
      "62.37% frog\n",
      "1.63% horse\n",
      "0.15% ship\n",
      "0.13% truck\n",
      "\n",
      "\n",
      "Predicted class (attack): frog (6)\n",
      "\n",
      "0.89% airplane\n",
      "0.11% automobile\n",
      "6.91% bird\n",
      "13.29% cat\n",
      "13.18% deer\n",
      "9.72% dog\n",
      "53.31% frog\n",
      "2.24% horse\n",
      "0.19% ship\n",
      "0.16% truck\n",
      "\n",
      "\n"
     ]
    }
   ],
   "source": [
    "x = example['x']\n",
    "attack_image = example['attack_image']\n",
    "c_o, cert_o = classify_tensor(model, x, classes, name = 'original')\n",
    "c_a, cert_a = classify_tensor(model, attack_image, classes, name = 'attack')"
   ]
  },
  {
   "cell_type": "markdown",
   "metadata": {},
   "source": [
    "### Visualise results"
   ]
  },
  {
   "cell_type": "code",
   "execution_count": 23,
   "metadata": {},
   "outputs": [
    {
     "name": "stdout",
     "output_type": "stream",
     "text": [
      "WARNING  15:38:43     Clipping input data to the valid range for imshow with RGB data ([0..1] for floats or [0..255] for integers).\n"
     ]
    },
    {
     "data": {
      "image/png": "[encoded data removed]",
      "text/plain": [
       "<Figure size 1000x3000 with 3 Axes>"
      ]
     },
     "metadata": {},
     "output_type": "display_data"
    }
   ],
   "source": [
    "diff_scale = 20\n",
    "_, axarr = plt.subplots(1,3, figsize = (10, 30))\n",
    "axarr[0].imshow(denormalise(x.permute(1,2,0), mean, std))\n",
    "axarr[0].set_title(f\"original ({classes[c_o]}, {cert_o*100:.1f}%)\")\n",
    "axarr[1].imshow(denormalise(attack_image.permute(1,2,0), mean, std))\n",
    "axarr[1].set_title(f\"attack ({classes[c_a]}, {cert_a*100:.1f}%)\")\n",
    "axarr[2].imshow(denormalise((diff_scale*(x-attack_image)).permute(1,2,0), mean, std))\n",
    "axarr[2].set_title(f'diff * {diff_scale}')\n",
    "plt.show()"
   ]
  },
  {
   "cell_type": "markdown",
   "metadata": {},
   "source": [
    "### Check property for all saved adversarial examples"
   ]
  },
  {
   "cell_type": "code",
   "execution_count": 24,
   "metadata": {},
   "outputs": [
    {
     "name": "stdout",
     "output_type": "stream",
     "text": [
      "Number of tested adversarial examples: 194\n",
      "Number of misclassified corresponding original images: 75\n",
      "Number of turned around images: 0\n",
      "Number of not working adversarial examples: 85\n",
      "Number of working adversarial examples with equal target class: 30\n",
      "Number of working adversarial examples with different target class: 4\n",
      "All classification results equal to saved results: False\n"
     ]
    }
   ],
   "source": [
    "num_res_equal = 0\n",
    "num_also_adv = 0\n",
    "num_not_adv = 0\n",
    "num_mis_orig = 0\n",
    "num_turned_around = 0\n",
    "cert_os = []\n",
    "cert_as = []\n",
    "\n",
    "for _,example in adv_examples.items():\n",
    "    x = example['x']\n",
    "    attack_image = example['attack_image']\n",
    "    c_o, cert_o = classify_tensor(model, x, classes, 'original', silent = True)\n",
    "    c_a, cert_a = classify_tensor(model, attack_image, classes, 'attack', silent = True)\n",
    "    cert_os.append(cert_o)\n",
    "    cert_as.append(cert_a)\n",
    "    if (c_o == example['y']) and (c_a == example['attack_label']):\n",
    "        num_res_equal += 1\n",
    "    if (c_o == example['y']) and (c_a not in [example['attack_label'], example['y']]):\n",
    "        num_also_adv += 1\n",
    "    if (c_o == example['y']) and (c_a == example['y']):\n",
    "        num_not_adv += 1\n",
    "    if (c_o != example['y']):\n",
    "        num_mis_orig += 1\n",
    "        if (c_a == example['y']):\n",
    "            num_turned_around += 1\n",
    "\n",
    "print(f'Number of tested adversarial examples: {len(cert_os)}')\n",
    "print(f'Number of misclassified corresponding original images: {num_mis_orig}')\n",
    "print(f'Number of turned around images: {num_turned_around}')\n",
    "print(f'Number of not working adversarial examples: {num_not_adv}')\n",
    "print(f'Number of working adversarial examples with equal target class: {num_res_equal}')\n",
    "print(f'Number of working adversarial examples with different target class: {num_also_adv}')\n",
    "\n",
    "print(f'All classification results equal to saved results: {num_res_equal == len(cert_os)}')\n",
    "if num_res_equal == len(cert_os):\n",
    "    print(f'Original classification certainty: \\n\\tmean: {np.mean(cert_os)*100:.1f}%\\n\\tstd: {np.std(cert_os)*100:.1f}%P')\n",
    "    print(f'Attacked classification certainty: \\n\\tmean: {np.mean(cert_as)*100:.1f}%\\n\\tstd: {np.std(cert_as)*100:.1f}%P')\n",
    "        "
   ]
  },
  {
   "cell_type": "code",
   "execution_count": 25,
   "metadata": {},
   "outputs": [
    {
     "name": "stderr",
     "output_type": "stream",
     "text": [
      "/var/folders/z5/yqd1shk93k5750y70gcq3tgw0000gn/T/ipykernel_22695/495151226.py:15: UserWarning:\n",
      "\n",
      "Matplotlib is currently using module://matplotlib_inline.backend_inline, which is a non-GUI backend, so cannot show the figure.\n",
      "\n"
     ]
    },
    {
     "data": {
      "image/png": "[encoded data removed]",
      "text/plain": [
       "<Figure size 600x300 with 1 Axes>"
      ]
     },
     "metadata": {},
     "output_type": "display_data"
    }
   ],
   "source": [
    "fig, ax = plt.subplots(figsize = (6, 3))\n",
    "data = [num_mis_orig, num_not_adv, num_res_equal, num_also_adv]\n",
    "colors = ['grey', '#35a80f', '#ff9900', '#f5c527']\n",
    "labels = [\"Unperturbed Input misclassified\", \"Attack failed\", \"Attack worked, same target\", \"Attack worked, different target\"]\n",
    "patches, texts, _ = ax.pie(data, colors = colors, autopct = '%1.1f%%')\n",
    "\n",
    "ax.set_title(f\"{adv_name} Adv. Examples \\n on {model_name} Model (count: {len(cert_os)})\", y=-0.15)\n",
    "ax.legend(patches, labels, bbox_to_anchor=(2.5,0.5), loc=\"center right\")\n",
    "\n",
    "\n",
    "\n",
    "fig.suptitle('CIFAR10 CNN-B, Grafting with Weight Retraining', horizontalalignment = \"center\", fontsize = 16)\n",
    "fig.tight_layout()\n",
    "fig.savefig('graphics/test_advexpie.pdf', bbox_inches=\"tight\")\n",
    "fig.show()"
   ]
  },
  {
   "cell_type": "code",
   "execution_count": 26,
   "metadata": {},
   "outputs": [],
   "source": [
    "labels = ['attacked samples', 'original classified correctly', 'original misclassified', 'attack successful', 'attack unsuccessful', 'equal target class', 'different target class']\n",
    "source_list = [0, 0, 1, 1, 3, 3]\n",
    "target_list = [1, 2, 3, 4, 5, 6]\n",
    "val_list = [len(cert_os)-num_mis_orig, num_mis_orig, num_res_equal+num_also_adv, num_not_adv, num_res_equal, num_also_adv]"
   ]
  },
  {
   "cell_type": "code",
   "execution_count": 27,
   "metadata": {},
   "outputs": [
    {
     "data": {
      "application/vnd.plotly.v1+json": {
       "config": {
        "plotlyServerURL": "https://plot.ly"
       },
       "data": [
        {
         "link": {
          "color": [
           "blue",
           "grey",
           "blue",
           "darkorange",
           "green",
           "lightgreen"
          ],
          "line": {
           "color": "White",
           "width": 0.5
          },
          "source": [
           0,
           0,
           1,
           1,
           3,
           3
          ],
          "target": [
           1,
           2,
           3,
           4,
           5,
           6
          ],
          "value": [
           119,
           75,
           34,
           85,
           30,
           4
          ]
         },
         "node": {
          "color": [
           "blue",
           "blue",
           "grey",
           "blue",
           "darkorange",
           "green",
           "lightgreen",
           "blue",
           "blue",
           "grey",
           "blue",
           "darkorange",
           "green",
           "lightgreen"
          ],
          "label": [
           "attacked samples",
           "original classified correctly",
           "original misclassified",
           "attack successful",
           "attack unsuccessful",
           "equal target class",
           "different target class"
          ],
          "line": {
           "color": "White",
           "width": 0.5
          },
          "pad": 10,
          "thickness": 20
         },
         "type": "sankey"
        }
       ],
       "layout": {
        "font": {
         "size": 15
        },
        "paper_bgcolor": "#F8F8ff",
        "template": {
         "data": {
          "bar": [
           {
            "error_x": {
             "color": "#2a3f5f"
            },
            "error_y": {
             "color": "#2a3f5f"
            },
            "marker": {
             "line": {
              "color": "#E5ECF6",
              "width": 0.5
             },
             "pattern": {
              "fillmode": "overlay",
              "size": 10,
              "solidity": 0.2
             }
            },
            "type": "bar"
           }
          ],
          "barpolar": [
           {
            "marker": {
             "line": {
              "color": "#E5ECF6",
              "width": 0.5
             },
             "pattern": {
              "fillmode": "overlay",
              "size": 10,
              "solidity": 0.2
             }
            },
            "type": "barpolar"
           }
          ],
          "carpet": [
           {
            "aaxis": {
             "endlinecolor": "#2a3f5f",
             "gridcolor": "white",
             "linecolor": "white",
             "minorgridcolor": "white",
             "startlinecolor": "#2a3f5f"
            },
            "baxis": {
             "endlinecolor": "#2a3f5f",
             "gridcolor": "white",
             "linecolor": "white",
             "minorgridcolor": "white",
             "startlinecolor": "#2a3f5f"
            },
            "type": "carpet"
           }
          ],
          "choropleth": [
           {
            "colorbar": {
             "outlinewidth": 0,
             "ticks": ""
            },
            "type": "choropleth"
           }
          ],
          "contour": [
           {
            "colorbar": {
             "outlinewidth": 0,
             "ticks": ""
            },
            "colorscale": [
             [
              0,
              "#0d0887"
             ],
             [
              0.1111111111111111,
              "#46039f"
             ],
             [
              0.2222222222222222,
              "#7201a8"
             ],
             [
              0.3333333333333333,
              "#9c179e"
             ],
             [
              0.4444444444444444,
              "#bd3786"
             ],
             [
              0.5555555555555556,
              "#d8576b"
             ],
             [
              0.6666666666666666,
              "#ed7953"
             ],
             [
              0.7777777777777778,
              "#fb9f3a"
             ],
             [
              0.8888888888888888,
              "#fdca26"
             ],
             [
              1,
              "#f0f921"
             ]
            ],
            "type": "contour"
           }
          ],
          "contourcarpet": [
           {
            "colorbar": {
             "outlinewidth": 0,
             "ticks": ""
            },
            "type": "contourcarpet"
           }
          ],
          "heatmap": [
           {
            "colorbar": {
             "outlinewidth": 0,
             "ticks": ""
            },
            "colorscale": [
             [
              0,
              "#0d0887"
             ],
             [
              0.1111111111111111,
              "#46039f"
             ],
             [
              0.2222222222222222,
              "#7201a8"
             ],
             [
              0.3333333333333333,
              "#9c179e"
             ],
             [
              0.4444444444444444,
              "#bd3786"
             ],
             [
              0.5555555555555556,
              "#d8576b"
             ],
             [
              0.6666666666666666,
              "#ed7953"
             ],
             [
              0.7777777777777778,
              "#fb9f3a"
             ],
             [
              0.8888888888888888,
              "#fdca26"
             ],
             [
              1,
              "#f0f921"
             ]
            ],
            "type": "heatmap"
           }
          ],
          "heatmapgl": [
           {
            "colorbar": {
             "outlinewidth": 0,
             "ticks": ""
            },
            "colorscale": [
             [
              0,
              "#0d0887"
             ],
             [
              0.1111111111111111,
              "#46039f"
             ],
             [
              0.2222222222222222,
              "#7201a8"
             ],
             [
              0.3333333333333333,
              "#9c179e"
             ],
             [
              0.4444444444444444,
              "#bd3786"
             ],
             [
              0.5555555555555556,
              "#d8576b"
             ],
             [
              0.6666666666666666,
              "#ed7953"
             ],
             [
              0.7777777777777778,
              "#fb9f3a"
             ],
             [
              0.8888888888888888,
              "#fdca26"
             ],
             [
              1,
              "#f0f921"
             ]
            ],
            "type": "heatmapgl"
           }
          ],
          "histogram": [
           {
            "marker": {
             "pattern": {
              "fillmode": "overlay",
              "size": 10,
              "solidity": 0.2
             }
            },
            "type": "histogram"
           }
          ],
          "histogram2d": [
           {
            "colorbar": {
             "outlinewidth": 0,
             "ticks": ""
            },
            "colorscale": [
             [
              0,
              "#0d0887"
             ],
             [
              0.1111111111111111,
              "#46039f"
             ],
             [
              0.2222222222222222,
              "#7201a8"
             ],
             [
              0.3333333333333333,
              "#9c179e"
             ],
             [
              0.4444444444444444,
              "#bd3786"
             ],
             [
              0.5555555555555556,
              "#d8576b"
             ],
             [
              0.6666666666666666,
              "#ed7953"
             ],
             [
              0.7777777777777778,
              "#fb9f3a"
             ],
             [
              0.8888888888888888,
              "#fdca26"
             ],
             [
              1,
              "#f0f921"
             ]
            ],
            "type": "histogram2d"
           }
          ],
          "histogram2dcontour": [
           {
            "colorbar": {
             "outlinewidth": 0,
             "ticks": ""
            },
            "colorscale": [
             [
              0,
              "#0d0887"
             ],
             [
              0.1111111111111111,
              "#46039f"
             ],
             [
              0.2222222222222222,
              "#7201a8"
             ],
             [
              0.3333333333333333,
              "#9c179e"
             ],
             [
              0.4444444444444444,
              "#bd3786"
             ],
             [
              0.5555555555555556,
              "#d8576b"
             ],
             [
              0.6666666666666666,
              "#ed7953"
             ],
             [
              0.7777777777777778,
              "#fb9f3a"
             ],
             [
              0.8888888888888888,
              "#fdca26"
             ],
             [
              1,
              "#f0f921"
             ]
            ],
            "type": "histogram2dcontour"
           }
          ],
          "mesh3d": [
           {
            "colorbar": {
             "outlinewidth": 0,
             "ticks": ""
            },
            "type": "mesh3d"
           }
          ],
          "parcoords": [
           {
            "line": {
             "colorbar": {
              "outlinewidth": 0,
              "ticks": ""
             }
            },
            "type": "parcoords"
           }
          ],
          "pie": [
           {
            "automargin": true,
            "type": "pie"
           }
          ],
          "scatter": [
           {
            "fillpattern": {
             "fillmode": "overlay",
             "size": 10,
             "solidity": 0.2
            },
            "type": "scatter"
           }
          ],
          "scatter3d": [
           {
            "line": {
             "colorbar": {
              "outlinewidth": 0,
              "ticks": ""
             }
            },
            "marker": {
             "colorbar": {
              "outlinewidth": 0,
              "ticks": ""
             }
            },
            "type": "scatter3d"
           }
          ],
          "scattercarpet": [
           {
            "marker": {
             "colorbar": {
              "outlinewidth": 0,
              "ticks": ""
             }
            },
            "type": "scattercarpet"
           }
          ],
          "scattergeo": [
           {
            "marker": {
             "colorbar": {
              "outlinewidth": 0,
              "ticks": ""
             }
            },
            "type": "scattergeo"
           }
          ],
          "scattergl": [
           {
            "marker": {
             "colorbar": {
              "outlinewidth": 0,
              "ticks": ""
             }
            },
            "type": "scattergl"
           }
          ],
          "scattermapbox": [
           {
            "marker": {
             "colorbar": {
              "outlinewidth": 0,
              "ticks": ""
             }
            },
            "type": "scattermapbox"
           }
          ],
          "scatterpolar": [
           {
            "marker": {
             "colorbar": {
              "outlinewidth": 0,
              "ticks": ""
             }
            },
            "type": "scatterpolar"
           }
          ],
          "scatterpolargl": [
           {
            "marker": {
             "colorbar": {
              "outlinewidth": 0,
              "ticks": ""
             }
            },
            "type": "scatterpolargl"
           }
          ],
          "scatterternary": [
           {
            "marker": {
             "colorbar": {
              "outlinewidth": 0,
              "ticks": ""
             }
            },
            "type": "scatterternary"
           }
          ],
          "surface": [
           {
            "colorbar": {
             "outlinewidth": 0,
             "ticks": ""
            },
            "colorscale": [
             [
              0,
              "#0d0887"
             ],
             [
              0.1111111111111111,
              "#46039f"
             ],
             [
              0.2222222222222222,
              "#7201a8"
             ],
             [
              0.3333333333333333,
              "#9c179e"
             ],
             [
              0.4444444444444444,
              "#bd3786"
             ],
             [
              0.5555555555555556,
              "#d8576b"
             ],
             [
              0.6666666666666666,
              "#ed7953"
             ],
             [
              0.7777777777777778,
              "#fb9f3a"
             ],
             [
              0.8888888888888888,
              "#fdca26"
             ],
             [
              1,
              "#f0f921"
             ]
            ],
            "type": "surface"
           }
          ],
          "table": [
           {
            "cells": {
             "fill": {
              "color": "#EBF0F8"
             },
             "line": {
              "color": "white"
             }
            },
            "header": {
             "fill": {
              "color": "#C8D4E3"
             },
             "line": {
              "color": "white"
             }
            },
            "type": "table"
           }
          ]
         },
         "layout": {
          "annotationdefaults": {
           "arrowcolor": "#2a3f5f",
           "arrowhead": 0,
           "arrowwidth": 1
          },
          "autotypenumbers": "strict",
          "coloraxis": {
           "colorbar": {
            "outlinewidth": 0,
            "ticks": ""
           }
          },
          "colorscale": {
           "diverging": [
            [
             0,
             "#8e0152"
            ],
            [
             0.1,
             "#c51b7d"
            ],
            [
             0.2,
             "#de77ae"
            ],
            [
             0.3,
             "#f1b6da"
            ],
            [
             0.4,
             "#fde0ef"
            ],
            [
             0.5,
             "#f7f7f7"
            ],
            [
             0.6,
             "#e6f5d0"
            ],
            [
             0.7,
             "#b8e186"
            ],
            [
             0.8,
             "#7fbc41"
            ],
            [
             0.9,
             "#4d9221"
            ],
            [
             1,
             "#276419"
            ]
           ],
           "sequential": [
            [
             0,
             "#0d0887"
            ],
            [
             0.1111111111111111,
             "#46039f"
            ],
            [
             0.2222222222222222,
             "#7201a8"
            ],
            [
             0.3333333333333333,
             "#9c179e"
            ],
            [
             0.4444444444444444,
             "#bd3786"
            ],
            [
             0.5555555555555556,
             "#d8576b"
            ],
            [
             0.6666666666666666,
             "#ed7953"
            ],
            [
             0.7777777777777778,
             "#fb9f3a"
            ],
            [
             0.8888888888888888,
             "#fdca26"
            ],
            [
             1,
             "#f0f921"
            ]
           ],
           "sequentialminus": [
            [
             0,
             "#0d0887"
            ],
            [
             0.1111111111111111,
             "#46039f"
            ],
            [
             0.2222222222222222,
             "#7201a8"
            ],
            [
             0.3333333333333333,
             "#9c179e"
            ],
            [
             0.4444444444444444,
             "#bd3786"
            ],
            [
             0.5555555555555556,
             "#d8576b"
            ],
            [
             0.6666666666666666,
             "#ed7953"
            ],
            [
             0.7777777777777778,
             "#fb9f3a"
            ],
            [
             0.8888888888888888,
             "#fdca26"
            ],
            [
             1,
             "#f0f921"
            ]
           ]
          },
          "colorway": [
           "#636efa",
           "#EF553B",
           "#00cc96",
           "#ab63fa",
           "#FFA15A",
           "#19d3f3",
           "#FF6692",
           "#B6E880",
           "#FF97FF",
           "#FECB52"
          ],
          "font": {
           "color": "#2a3f5f"
          },
          "geo": {
           "bgcolor": "white",
           "lakecolor": "white",
           "landcolor": "#E5ECF6",
           "showlakes": true,
           "showland": true,
           "subunitcolor": "white"
          },
          "hoverlabel": {
           "align": "left"
          },
          "hovermode": "closest",
          "mapbox": {
           "style": "light"
          },
          "paper_bgcolor": "white",
          "plot_bgcolor": "#E5ECF6",
          "polar": {
           "angularaxis": {
            "gridcolor": "white",
            "linecolor": "white",
            "ticks": ""
           },
           "bgcolor": "#E5ECF6",
           "radialaxis": {
            "gridcolor": "white",
            "linecolor": "white",
            "ticks": ""
           }
          },
          "scene": {
           "xaxis": {
            "backgroundcolor": "#E5ECF6",
            "gridcolor": "white",
            "gridwidth": 2,
            "linecolor": "white",
            "showbackground": true,
            "ticks": "",
            "zerolinecolor": "white"
           },
           "yaxis": {
            "backgroundcolor": "#E5ECF6",
            "gridcolor": "white",
            "gridwidth": 2,
            "linecolor": "white",
            "showbackground": true,
            "ticks": "",
            "zerolinecolor": "white"
           },
           "zaxis": {
            "backgroundcolor": "#E5ECF6",
            "gridcolor": "white",
            "gridwidth": 2,
            "linecolor": "white",
            "showbackground": true,
            "ticks": "",
            "zerolinecolor": "white"
           }
          },
          "shapedefaults": {
           "line": {
            "color": "#2a3f5f"
           }
          },
          "ternary": {
           "aaxis": {
            "gridcolor": "white",
            "linecolor": "white",
            "ticks": ""
           },
           "baxis": {
            "gridcolor": "white",
            "linecolor": "white",
            "ticks": ""
           },
           "bgcolor": "#E5ECF6",
           "caxis": {
            "gridcolor": "white",
            "linecolor": "white",
            "ticks": ""
           }
          },
          "title": {
           "x": 0.05
          },
          "xaxis": {
           "automargin": true,
           "gridcolor": "white",
           "linecolor": "white",
           "ticks": "",
           "title": {
            "standoff": 15
           },
           "zerolinecolor": "white",
           "zerolinewidth": 2
          },
          "yaxis": {
           "automargin": true,
           "gridcolor": "white",
           "linecolor": "white",
           "ticks": "",
           "title": {
            "standoff": 15
           },
           "zerolinecolor": "white",
           "zerolinewidth": 2
          }
         }
        },
        "title": {
         "text": "Original adv examples evaluated on Graft model   <br><sup>17.5% of samples remain adversarial examples     <br>28.6% of correctly classified samples remain adversarial examples       <br>Graft model robust to 43.8% of Original adv examples</sup>"
        }
       }
      }
     },
     "metadata": {},
     "output_type": "display_data"
    }
   ],
   "source": [
    "colors = ['blue', 'blue', 'grey', 'blue', 'darkorange', 'green', 'lightgreen']\n",
    "link_colors = [colors[target_list[i]] for i in range(len(target_list))]\n",
    "fig = go.Figure(data=[go.Sankey(\n",
    "    #textfont=dict(color=\"rgba(0,0,0,0)\", size=1),\n",
    "    #arrangement = \"fixed\",\n",
    "    node = dict(\n",
    "      pad = 10,\n",
    "      thickness = 20,\n",
    "    #   x=[0.15, 0.15, 0.15, 0.15, 0.8, 0.8, 0.8, 0.8],\n",
    "    #   y = pos_list,\n",
    "      line = dict(color = \"White\", width = 0.5),\n",
    "      label = labels,\n",
    "      color =  colors*2\n",
    "    ),\n",
    "    link = dict(\n",
    "      #arrowlen = 2,\n",
    "      line = dict(color = \"White\", width = 0.5),\n",
    "      source = source_list,\n",
    "      target = target_list,\n",
    "      value = val_list,\n",
    "      color = link_colors\n",
    "  ))])\n",
    "\n",
    "fig.update_layout(title_text=f\"{adv_name} adv examples evaluated on {model_name} model \\\n",
    "  <br><sup>{(num_res_equal+num_also_adv)/len(cert_os)*100:.1f}% of samples remain adversarial examples \\\n",
    "    <br>{((num_res_equal+num_also_adv)/(len(cert_os)-num_mis_orig))*100:.1f}% of correctly classified samples remain adversarial examples \\\n",
    "      <br>{model_name} model robust to {num_not_adv/len(cert_os)*100:.1f}% of {adv_name} adv examples</sup>\", font_size=15, paper_bgcolor='#F8F8ff')\n",
    "fig.show()\n",
    "\n",
    "\n",
    "\n"
   ]
  }
 ],
 "metadata": {
  "kernelspec": {
   "display_name": "alpha-beta-crown",
   "language": "python",
   "name": "python3"
  },
  "language_info": {
   "codemirror_mode": {
    "name": "ipython",
    "version": 3
   },
   "file_extension": ".py",
   "mimetype": "text/x-python",
   "name": "python",
   "nbconvert_exporter": "python",
   "pygments_lexer": "ipython3",
   "version": "3.10.12"
  },
  "orig_nbformat": 4
 },
 "nbformat": 4,
 "nbformat_minor": 2
}
